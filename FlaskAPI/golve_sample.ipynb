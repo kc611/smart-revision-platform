{
  "cells": [
    {
      "cell_type": "code",
      "execution_count": 2,
      "metadata": {
        "colab": {},
        "colab_type": "code",
        "id": "v2goQ7zZ6Jky"
      },
      "outputs": [],
      "source": [
        "import numpy as np\n",
        "from sklearn.manifold import TSNE\n",
        "import matplotlib.pyplot as plt\n",
        "# importing required modules \n",
        "import string\n",
        "import re\n",
        "import numpy as np   \n",
        "from scipy import spatial\n",
        "import gensim.downloader as api\n",
        "import numpy as np"
      ]
    },
    {
      "cell_type": "markdown",
      "metadata": {
        "colab_type": "text",
        "id": "e8kSUsoO1Z3U"
      },
      "source": [
        "## Load the GloVe model from API"
      ]
    },
    {
      "cell_type": "code",
      "execution_count": 3,
      "metadata": {
        "colab": {
          "base_uri": "https://localhost:8080/",
          "height": 88
        },
        "colab_type": "code",
        "id": "9WbgU0u66nw4",
        "outputId": "e1fe8a71-77ad-4ee2-c641-25c0fe842995"
      },
      "outputs": [],
      "source": [
        "import gensim.downloader as api\n",
        "glove_model = api.load('glove-wiki-gigaword-50')"
      ]
    },
    {
      "cell_type": "markdown",
      "metadata": {
        "colab_type": "text",
        "id": "EAnppTlU1foo"
      },
      "source": [
        "## Example vector representation of a word"
      ]
    },
    {
      "cell_type": "code",
      "execution_count": 4,
      "metadata": {
        "colab": {
          "base_uri": "https://localhost:8080/",
          "height": 1000
        },
        "colab_type": "code",
        "id": "5a3DLDARgOBS",
        "outputId": "ccb30731-42bb-432a-f193-6fc41f880b1a"
      },
      "outputs": [
        {
          "data": {
            "text/plain": "array([ 0.54623  ,  1.2042   , -1.1288   , -0.1325   ,  0.95529  ,\n        0.040524 , -0.47863  , -0.3397   , -0.28056  ,  0.71761  ,\n       -0.53691  , -0.0045698,  0.73217  ,  0.12101  ,  0.28093  ,\n       -0.088097 ,  0.59733  ,  0.55264  ,  0.056646 , -0.50247  ,\n       -0.63204  ,  1.1439   , -0.31053  ,  0.1263   ,  1.3155   ,\n       -0.52444  , -1.5041   ,  1.158    ,  0.68795  , -0.85051  ,\n        2.3236   , -0.41789  ,  0.44519  , -0.019216 ,  0.28969  ,\n        0.53258  , -0.023008 ,  0.58958  , -0.72397  , -0.85216  ,\n       -0.17761  ,  0.14432  ,  0.40658  , -0.52003  ,  0.09081  ,\n        0.082961 , -0.021975 , -1.6214   ,  0.34579  , -0.010919 ],\n      dtype=float32)"
          },
          "execution_count": 4,
          "metadata": {},
          "output_type": "execute_result"
        }
      ],
      "source": [
        "glove_model[\"beautiful\"]"
      ]
    },
    {
      "cell_type": "markdown",
      "metadata": {
        "colab_type": "text",
        "id": "E9qfbMxS1qDa"
      },
      "source": [
        "## Nearest neighbours to a point represented by a word vector\n"
      ]
    },
    {
      "cell_type": "code",
      "execution_count": 56,
      "metadata": {
        "colab": {
          "base_uri": "https://localhost:8080/",
          "height": 241
        },
        "colab_type": "code",
        "id": "zR3zzQUrfEXe",
        "outputId": "970f2f60-a145-480b-cdb1-ef4962e5bcc3"
      },
      "outputs": [
        {
          "data": {
            "text/plain": "[('provide', 0.8405461311340332),\n ('providing', 0.8398562073707581),\n ('allows', 0.8325700759887695),\n ('allow', 0.8278020024299622),\n ('provides', 0.8090278506278992),\n ('providers', 0.8084705471992493),\n ('existing', 0.7976927757263184),\n ('users', 0.7904787659645081),\n ('secure', 0.7902721762657166),\n ('enabling', 0.7885864973068237)]"
          },
          "execution_count": 56,
          "metadata": {},
          "output_type": "execute_result"
        }
      ],
      "source": [
        "glove_model.most_similar(\"access\")"
      ]
    },
    {
      "cell_type": "markdown",
      "metadata": {
        "colab_type": "text",
        "id": "_Go8rwIO1RXU"
      },
      "source": [
        "## queen - girl + boy = king"
      ]
    },
    {
      "cell_type": "code",
      "execution_count": 57,
      "metadata": {
        "colab": {
          "base_uri": "https://localhost:8080/",
          "height": 88
        },
        "colab_type": "code",
        "id": "DVNmvmnyw-9h",
        "outputId": "d4aa347b-402a-448c-b916-27975155a403"
      },
      "outputs": [
        {
          "data": {
            "text/plain": "[('king', 0.8660337924957275)]"
          },
          "execution_count": 57,
          "metadata": {},
          "output_type": "execute_result"
        }
      ],
      "source": [
        "glove_model.most_similar(positive=['boy', 'queen'], negative=['girl'], topn=1)"
      ]
    },
    {
      "cell_type": "code",
      "execution_count": 59,
      "metadata": {
        "colab": {
          "base_uri": "https://localhost:8080/",
          "height": 483
        },
        "colab_type": "code",
        "id": "R9Tn9a3zjISS",
        "outputId": "312881fb-f594-4037-dd87-0b8bae605536"
      },
      "outputs": [
        {
          "data": {
            "image/png": "[encoded data removed]",
            "text/plain": "<Figure size 576x576 with 1 Axes>"
          },
          "metadata": {
            "needs_background": "light"
          },
          "output_type": "display_data"
        }
      ],
      "source": [
        "vocab = [\"boy\", \"girl\", \"man\", \"woman\", \"king\", \"queen\", \"banana\", \"apple\", \"mango\", \"fruit\", \"coconut\", \"orange\"]\n",
        "\n",
        "def tsne_plot(model):\n",
        "    labels = []\n",
        "    wordvecs = []\n",
        "\n",
        "    for word in vocab:\n",
        "        wordvecs.append(model[word])\n",
        "        labels.append(word)\n",
        "    \n",
        "    tsne_model = TSNE(perplexity=3, n_components=2, init='pca', random_state=42)\n",
        "    coordinates = tsne_model.fit_transform(wordvecs)\n",
        "\n",
        "    x = []\n",
        "    y = []\n",
        "    for value in coordinates:\n",
        "        x.append(value[0])\n",
        "        y.append(value[1])\n",
        "        \n",
        "    plt.figure(figsize=(8,8)) \n",
        "    for i in range(len(x)):\n",
        "        plt.scatter(x[i],y[i])\n",
        "        plt.annotate(labels[i],\n",
        "                     xy=(x[i], y[i]),\n",
        "                     xytext=(2, 2),\n",
        "                     textcoords='offset points',\n",
        "                     ha='right',\n",
        "                     va='bottom')\n",
        "    plt.show()\n",
        "\n",
        "tsne_plot(glove_model)"
      ]
    },
    {
      "cell_type": "code",
      "execution_count": 60,
      "metadata": {},
      "outputs": [],
      "source": [
        "with open(\"./stop_words.txt\", \"r\") as f:\n",
        "  stop_words = f.read().split(\"\\n\")\n",
        "\n",
        "def preprocess_sentence(_sent):\n",
        "  #  Remove unnecessary characters\n",
        "  _sent = _sent.replace(\"?\", \"\")\n",
        "  _sent = _sent.replace(\"_\", \"\")\n",
        "  _sent = _sent.replace(\",\", \"\")\n",
        "  _sent = _sent.replace(\".\", \" \")\n",
        "\n",
        "  _sent = _sent.lower()\n",
        "  _sent = _sent.split(\" \")\n",
        "  # Remove Stop words\n",
        "  _sent = [_word for _word in _sent if _word not in stop_words]\n",
        "  _sent = [_word for _word in _sent if _word != '']\n",
        "  print(_sent)\n",
        "  curr_vects = []\n",
        "  for _word in _sent:\n",
        "    try:\n",
        "      # Uses glove to encode the words into vectors\n",
        "      curr_vec = glove_model[_word]\n",
        "      curr_vects.append(curr_vec)\n",
        "    except:\n",
        "      pass\n",
        "  return np.array(curr_vects)"
      ]
    },
    {
      "cell_type": "code",
      "execution_count": 85,
      "metadata": {},
      "outputs": [],
      "source": [
        "s1 = 'How do you initialize an array in C?'\n",
        "s2 = 'How do you instantiate an array in Java?'\n",
        "s3 = 'Which of the following is the correct way to declare a multidimensional array in Java?'\n",
        "s6 = 'When does the Array Index Out Of Bounds Exception occur?'\n",
        "s7 = 'Which of the following concepts make extensive use of arrays?'\n",
        "s8 = 'What are the advantages of arrays?'\n",
        "s9 = 'What are the disadvantages of arrays?'\n",
        "s10 = 'Assuming int is of 4 bytes, what is the size of int arr[15];?'\n",
        "s11 = 'The index of the first element in an array is __________'\n",
        "s12 = 'Elements in an array are accessed _____________'\n",
        "\n",
        "all_sent = [s1,s2,s3,s6,s7,s8,s9,s10,s11,s12]\n",
        "all_vects = []"
      ]
    },
    {
      "cell_type": "code",
      "execution_count": 86,
      "metadata": {},
      "outputs": [
        {
          "name": "stdout",
          "output_type": "stream",
          "text": [
            "['initialize', 'array']\n",
            "['instantiate', 'array', 'java']\n",
            "['correct', 'declare', 'multidimensional', 'array', 'java']\n",
            "['array', 'index', 'bounds', 'exception', 'occur']\n",
            "['concepts', 'make', 'extensive', 'arrays']\n",
            "['advantages', 'arrays']\n",
            "['disadvantages', 'arrays']\n",
            "['assuming', 'int', '4', 'bytes', 'size', 'int', 'arr[15];']\n",
            "['index', 'element', 'array']\n",
            "['elements', 'array', 'accessed']\n"
          ]
        }
      ],
      "source": [
        "# Encode all example sentences\n",
        "for _sent in all_sent:\n",
        "  curr_vects = preprocess_sentence(_sent)\n",
        "  all_vects.append(curr_vects)"
      ]
    },
    {
      "cell_type": "code",
      "execution_count": 87,
      "metadata": {},
      "outputs": [
        {
          "name": "stdout",
          "output_type": "stream",
          "text": [
            "['arrays', 'store']\n"
          ]
        }
      ],
      "source": [
        "query = 'What are ?'\n",
        "\n",
        "# Encode query sentence\n",
        "query_vects = preprocess_sentence(query)"
      ]
    },
    {
      "cell_type": "code",
      "execution_count": 88,
      "metadata": {},
      "outputs": [
        {
          "name": "stdout",
          "output_type": "stream",
          "text": [
            "0  :  9.83812842530277\n",
            "1  :  9.83812842530277\n",
            "2  :  9.83812842530277\n",
            "3  :  9.107830108317406\n",
            "4  :  5.212837203754224\n",
            "5  :  6.269545645476196\n",
            "6  :  7.105904194161589\n",
            "7  :  9.875635758878275\n",
            "8  :  9.83812842530277\n",
            "9  :  9.603473165187046\n"
          ]
        }
      ],
      "source": [
        "from sklearn.neighbors import NearestNeighbors\n",
        "import numpy as np\n",
        "\n",
        "\n",
        "for i in range(0, len(all_vects)):\n",
        "  # Fit the query string onto a nearest neighbour space\n",
        "  nbrs = NearestNeighbors(n_neighbors=1, algorithm='ball_tree').fit(all_vects[i])\n",
        "  # For every sentence calculate pairwise 1st nearest neighbour to every word\n",
        "  distances, indices = nbrs.kneighbors(query_vects)\n",
        "  # The distances give us pairwise nearest neighbour between current sentence and query sentence\n",
        "  # We sum those distances the lower the sum the nearer the meaning of those words (pairwise)\n",
        "  dist_sum = np.sum(distances)\n",
        "  print(i,\" : \", dist_sum)\n"
      ]
    },
    {
      "cell_type": "code",
      "execution_count": null,
      "metadata": {},
      "outputs": [],
      "source": []
    }
  ],
  "metadata": {
    "accelerator": "GPU",
    "colab": {
      "collapsed_sections": [],
      "include_colab_link": true,
      "name": "GloVe.ipynb",
      "provenance": []
    },
    "kernelspec": {
      "display_name": "Python 3",
      "name": "python3"
    },
    "language_info": {}
  },
  "nbformat": 4,
  "nbformat_minor": 0
}